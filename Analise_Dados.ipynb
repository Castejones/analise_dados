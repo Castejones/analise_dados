{
  "nbformat": 4,
  "nbformat_minor": 0,
  "metadata": {
    "colab": {
      "provenance": [],
      "include_colab_link": true
    },
    "kernelspec": {
      "name": "python3",
      "display_name": "Python 3"
    },
    "language_info": {
      "name": "python"
    }
  },
  "cells": [
    {
      "cell_type": "markdown",
      "metadata": {
        "id": "view-in-github",
        "colab_type": "text"
      },
      "source": [
        "<a href=\"https://colab.research.google.com/github/Castejones/analise_dados/blob/main/Analise_Dados.ipynb\" target=\"_parent\"><img src=\"https://colab.research.google.com/assets/colab-badge.svg\" alt=\"Open In Colab\"/></a>"
      ]
    },
    {
      "cell_type": "markdown",
      "source": [
        "# Análise de dados - pandas"
      ],
      "metadata": {
        "id": "Io4Qm7pctR-m"
      }
    },
    {
      "cell_type": "code",
      "execution_count": 45,
      "metadata": {
        "id": "CyzJBUTHr_eZ"
      },
      "outputs": [],
      "source": [
        "import numpy as np\n",
        "import pandas as pd\n",
        "\n",
        "#As bibliotecas numpy e pandas são importantes para análise de dados no python"
      ]
    },
    {
      "cell_type": "code",
      "source": [
        "população = pd.Series([214, 45.81, 10.3, 33.93])\n",
        "população"
      ],
      "metadata": {
        "colab": {
          "base_uri": "https://localhost:8080/"
        },
        "id": "CvCRbyX2uU-g",
        "outputId": "e02ad900-be51-4b8d-d19d-ead4bc700f1e"
      },
      "execution_count": 46,
      "outputs": [
        {
          "output_type": "execute_result",
          "data": {
            "text/plain": [
              "0    214.00\n",
              "1     45.81\n",
              "2     10.30\n",
              "3     33.93\n",
              "dtype: float64"
            ]
          },
          "metadata": {},
          "execution_count": 46
        }
      ]
    },
    {
      "cell_type": "code",
      "source": [
        "habitantes = [214, 45.81, 10.3, 33.93]\n",
        "nomes = [\"Brasil\", \"Argentina\", \"Portugal\", \"Angola\"]\n",
        "lista_países = pd.Series(data=habitantes, index=nomes)\n",
        "lista_países\n"
      ],
      "metadata": {
        "colab": {
          "base_uri": "https://localhost:8080/"
        },
        "id": "eIFYJzVxv4Fy",
        "outputId": "086417fb-c59c-4335-eb64-48845d1d42f9"
      },
      "execution_count": 47,
      "outputs": [
        {
          "output_type": "execute_result",
          "data": {
            "text/plain": [
              "Brasil       214.00\n",
              "Argentina     45.81\n",
              "Portugal      10.30\n",
              "Angola        33.93\n",
              "dtype: float64"
            ]
          },
          "metadata": {},
          "execution_count": 47
        }
      ]
    },
    {
      "cell_type": "markdown",
      "source": [
        "# Pandas Dataframe "
      ],
      "metadata": {
        "id": "xbRN3LPJu_7O"
      }
    },
    {
      "cell_type": "code",
      "source": [
        "dados = {\n",
        "    \"Nomes\" : [\"Brasil\", \"Argentina\", \"Portugal\", \"Angola\"],\n",
        "    \"Habitantes\" : [214, 45.81, 10.3, 33.93],\n",
        "    \"IDH\": [0.754, 0.842, 0.864, 0.581]\n",
        "}\n",
        "\n",
        "países= pd.DataFrame(data=dados, index=nomes)\n",
        "países"
      ],
      "metadata": {
        "colab": {
          "base_uri": "https://localhost:8080/",
          "height": 175
        },
        "id": "Ae1ScMFavkKt",
        "outputId": "d0d5de0c-8425-42a3-d457-4305203b9134"
      },
      "execution_count": 81,
      "outputs": [
        {
          "output_type": "execute_result",
          "data": {
            "text/plain": [
              "               Nomes  Habitantes    IDH\n",
              "Brasil        Brasil      214.00  0.754\n",
              "Argentina  Argentina       45.81  0.842\n",
              "Portugal    Portugal       10.30  0.864\n",
              "Angola        Angola       33.93  0.581"
            ],
            "text/html": [
              "\n",
              "  <div id=\"df-90653fb8-05a2-4f46-9568-14266b3ef265\">\n",
              "    <div class=\"colab-df-container\">\n",
              "      <div>\n",
              "<style scoped>\n",
              "    .dataframe tbody tr th:only-of-type {\n",
              "        vertical-align: middle;\n",
              "    }\n",
              "\n",
              "    .dataframe tbody tr th {\n",
              "        vertical-align: top;\n",
              "    }\n",
              "\n",
              "    .dataframe thead th {\n",
              "        text-align: right;\n",
              "    }\n",
              "</style>\n",
              "<table border=\"1\" class=\"dataframe\">\n",
              "  <thead>\n",
              "    <tr style=\"text-align: right;\">\n",
              "      <th></th>\n",
              "      <th>Nomes</th>\n",
              "      <th>Habitantes</th>\n",
              "      <th>IDH</th>\n",
              "    </tr>\n",
              "  </thead>\n",
              "  <tbody>\n",
              "    <tr>\n",
              "      <th>Brasil</th>\n",
              "      <td>Brasil</td>\n",
              "      <td>214.00</td>\n",
              "      <td>0.754</td>\n",
              "    </tr>\n",
              "    <tr>\n",
              "      <th>Argentina</th>\n",
              "      <td>Argentina</td>\n",
              "      <td>45.81</td>\n",
              "      <td>0.842</td>\n",
              "    </tr>\n",
              "    <tr>\n",
              "      <th>Portugal</th>\n",
              "      <td>Portugal</td>\n",
              "      <td>10.30</td>\n",
              "      <td>0.864</td>\n",
              "    </tr>\n",
              "    <tr>\n",
              "      <th>Angola</th>\n",
              "      <td>Angola</td>\n",
              "      <td>33.93</td>\n",
              "      <td>0.581</td>\n",
              "    </tr>\n",
              "  </tbody>\n",
              "</table>\n",
              "</div>\n",
              "      <button class=\"colab-df-convert\" onclick=\"convertToInteractive('df-90653fb8-05a2-4f46-9568-14266b3ef265')\"\n",
              "              title=\"Convert this dataframe to an interactive table.\"\n",
              "              style=\"display:none;\">\n",
              "        \n",
              "  <svg xmlns=\"http://www.w3.org/2000/svg\" height=\"24px\"viewBox=\"0 0 24 24\"\n",
              "       width=\"24px\">\n",
              "    <path d=\"M0 0h24v24H0V0z\" fill=\"none\"/>\n",
              "    <path d=\"M18.56 5.44l.94 2.06.94-2.06 2.06-.94-2.06-.94-.94-2.06-.94 2.06-2.06.94zm-11 1L8.5 8.5l.94-2.06 2.06-.94-2.06-.94L8.5 2.5l-.94 2.06-2.06.94zm10 10l.94 2.06.94-2.06 2.06-.94-2.06-.94-.94-2.06-.94 2.06-2.06.94z\"/><path d=\"M17.41 7.96l-1.37-1.37c-.4-.4-.92-.59-1.43-.59-.52 0-1.04.2-1.43.59L10.3 9.45l-7.72 7.72c-.78.78-.78 2.05 0 2.83L4 21.41c.39.39.9.59 1.41.59.51 0 1.02-.2 1.41-.59l7.78-7.78 2.81-2.81c.8-.78.8-2.07 0-2.86zM5.41 20L4 18.59l7.72-7.72 1.47 1.35L5.41 20z\"/>\n",
              "  </svg>\n",
              "      </button>\n",
              "      \n",
              "  <style>\n",
              "    .colab-df-container {\n",
              "      display:flex;\n",
              "      flex-wrap:wrap;\n",
              "      gap: 12px;\n",
              "    }\n",
              "\n",
              "    .colab-df-convert {\n",
              "      background-color: #E8F0FE;\n",
              "      border: none;\n",
              "      border-radius: 50%;\n",
              "      cursor: pointer;\n",
              "      display: none;\n",
              "      fill: #1967D2;\n",
              "      height: 32px;\n",
              "      padding: 0 0 0 0;\n",
              "      width: 32px;\n",
              "    }\n",
              "\n",
              "    .colab-df-convert:hover {\n",
              "      background-color: #E2EBFA;\n",
              "      box-shadow: 0px 1px 2px rgba(60, 64, 67, 0.3), 0px 1px 3px 1px rgba(60, 64, 67, 0.15);\n",
              "      fill: #174EA6;\n",
              "    }\n",
              "\n",
              "    [theme=dark] .colab-df-convert {\n",
              "      background-color: #3B4455;\n",
              "      fill: #D2E3FC;\n",
              "    }\n",
              "\n",
              "    [theme=dark] .colab-df-convert:hover {\n",
              "      background-color: #434B5C;\n",
              "      box-shadow: 0px 1px 3px 1px rgba(0, 0, 0, 0.15);\n",
              "      filter: drop-shadow(0px 1px 2px rgba(0, 0, 0, 0.3));\n",
              "      fill: #FFFFFF;\n",
              "    }\n",
              "  </style>\n",
              "\n",
              "      <script>\n",
              "        const buttonEl =\n",
              "          document.querySelector('#df-90653fb8-05a2-4f46-9568-14266b3ef265 button.colab-df-convert');\n",
              "        buttonEl.style.display =\n",
              "          google.colab.kernel.accessAllowed ? 'block' : 'none';\n",
              "\n",
              "        async function convertToInteractive(key) {\n",
              "          const element = document.querySelector('#df-90653fb8-05a2-4f46-9568-14266b3ef265');\n",
              "          const dataTable =\n",
              "            await google.colab.kernel.invokeFunction('convertToInteractive',\n",
              "                                                     [key], {});\n",
              "          if (!dataTable) return;\n",
              "\n",
              "          const docLinkHtml = 'Like what you see? Visit the ' +\n",
              "            '<a target=\"_blank\" href=https://colab.research.google.com/notebooks/data_table.ipynb>data table notebook</a>'\n",
              "            + ' to learn more about interactive tables.';\n",
              "          element.innerHTML = '';\n",
              "          dataTable['output_type'] = 'display_data';\n",
              "          await google.colab.output.renderOutput(dataTable, element);\n",
              "          const docLink = document.createElement('div');\n",
              "          docLink.innerHTML = docLinkHtml;\n",
              "          element.appendChild(docLink);\n",
              "        }\n",
              "      </script>\n",
              "    </div>\n",
              "  </div>\n",
              "  "
            ]
          },
          "metadata": {},
          "execution_count": 81
        }
      ]
    },
    {
      "cell_type": "markdown",
      "source": [
        "## Propriedades"
      ],
      "metadata": {
        "id": "SRTT8Xmf05Wz"
      }
    },
    {
      "cell_type": "code",
      "source": [
        "formato= países.shape\n",
        "formato"
      ],
      "metadata": {
        "colab": {
          "base_uri": "https://localhost:8080/"
        },
        "id": "-95tRZrT1HI9",
        "outputId": "096533a3-9e37-4642-b069-b721c55791dd"
      },
      "execution_count": 54,
      "outputs": [
        {
          "output_type": "execute_result",
          "data": {
            "text/plain": [
              "(4, 3)"
            ]
          },
          "metadata": {},
          "execution_count": 54
        }
      ]
    },
    {
      "cell_type": "code",
      "source": [
        "numero_linhas= países.shape[0]\n",
        "numero_linhas"
      ],
      "metadata": {
        "colab": {
          "base_uri": "https://localhost:8080/"
        },
        "id": "IAHWzCE81m73",
        "outputId": "bdc23fc1-95f7-4fda-d2d9-6e539b0510b1"
      },
      "execution_count": 58,
      "outputs": [
        {
          "output_type": "execute_result",
          "data": {
            "text/plain": [
              "4"
            ]
          },
          "metadata": {},
          "execution_count": 58
        }
      ]
    },
    {
      "cell_type": "code",
      "source": [
        "numero_colunas= países.shape[1]\n",
        "numero_colunas"
      ],
      "metadata": {
        "colab": {
          "base_uri": "https://localhost:8080/"
        },
        "outputId": "e8e9fa3c-fa5d-4863-ea03-dc383c7e0091",
        "id": "aIyurpdW2FxR"
      },
      "execution_count": 57,
      "outputs": [
        {
          "output_type": "execute_result",
          "data": {
            "text/plain": [
              "3"
            ]
          },
          "metadata": {},
          "execution_count": 57
        }
      ]
    },
    {
      "cell_type": "code",
      "source": [
        "indices= países.index\n",
        "indices"
      ],
      "metadata": {
        "colab": {
          "base_uri": "https://localhost:8080/"
        },
        "id": "3Oagb4cp2M44",
        "outputId": "4c8ac23c-c36b-4db0-9d06-8e13cffb2cf1"
      },
      "execution_count": 59,
      "outputs": [
        {
          "output_type": "execute_result",
          "data": {
            "text/plain": [
              "Index(['Brasil', 'Argentina', 'Portugal', 'Angola'], dtype='object')"
            ]
          },
          "metadata": {},
          "execution_count": 59
        }
      ]
    },
    {
      "cell_type": "code",
      "source": [
        "colunas=países.columns\n",
        "colunas"
      ],
      "metadata": {
        "colab": {
          "base_uri": "https://localhost:8080/"
        },
        "id": "ZPvVcVQs2VeS",
        "outputId": "4e8a512a-50e9-4d7a-f17d-24fa57064d96"
      },
      "execution_count": 60,
      "outputs": [
        {
          "output_type": "execute_result",
          "data": {
            "text/plain": [
              "Index(['Nomes', 'Habitantes', 'IDH'], dtype='object')"
            ]
          },
          "metadata": {},
          "execution_count": 60
        }
      ]
    },
    {
      "cell_type": "code",
      "source": [
        "tipo= type(países)\n",
        "tipo"
      ],
      "metadata": {
        "colab": {
          "base_uri": "https://localhost:8080/"
        },
        "id": "5JliJG0F2oV9",
        "outputId": "f38aa167-b683-4c6b-bae6-7143cdf57555"
      },
      "execution_count": 61,
      "outputs": [
        {
          "output_type": "execute_result",
          "data": {
            "text/plain": [
              "pandas.core.frame.DataFrame"
            ]
          },
          "metadata": {},
          "execution_count": 61
        }
      ]
    },
    {
      "cell_type": "code",
      "source": [
        "tipo= países.dtypes\n",
        "tipo"
      ],
      "metadata": {
        "colab": {
          "base_uri": "https://localhost:8080/"
        },
        "id": "6zmJfMss22Hf",
        "outputId": "e91e12c4-f58c-4bdb-dc28-07c813f4d593"
      },
      "execution_count": 65,
      "outputs": [
        {
          "output_type": "execute_result",
          "data": {
            "text/plain": [
              "Nomes          object\n",
              "Habitantes    float64\n",
              "IDH           float64\n",
              "dtype: object"
            ]
          },
          "metadata": {},
          "execution_count": 65
        }
      ]
    },
    {
      "cell_type": "code",
      "source": [
        "indices= países.index.dtype\n",
        "print(indices)"
      ],
      "metadata": {
        "colab": {
          "base_uri": "https://localhost:8080/"
        },
        "id": "7KruYQAn3sBl",
        "outputId": "0ded114b-be25-404b-abe3-86ba9edbc393"
      },
      "execution_count": 70,
      "outputs": [
        {
          "output_type": "stream",
          "name": "stdout",
          "text": [
            "int64\n"
          ]
        }
      ]
    },
    {
      "cell_type": "markdown",
      "source": [
        "## Consulta e modificação de dados"
      ],
      "metadata": {
        "id": "BpUamkbw5C_g"
      }
    },
    {
      "cell_type": "code",
      "source": [
        "países.iloc[0][2]"
      ],
      "metadata": {
        "colab": {
          "base_uri": "https://localhost:8080/"
        },
        "id": "688YUpAZ5H7v",
        "outputId": "87358e3d-e79e-4466-9f14-d955fa3c1182"
      },
      "execution_count": 72,
      "outputs": [
        {
          "output_type": "execute_result",
          "data": {
            "text/plain": [
              "0.754"
            ]
          },
          "metadata": {},
          "execution_count": 72
        }
      ]
    },
    {
      "cell_type": "code",
      "source": [
        "países.iat[0,2]"
      ],
      "metadata": {
        "colab": {
          "base_uri": "https://localhost:8080/"
        },
        "id": "2Xvqywyv530N",
        "outputId": "d13b1ab5-37fd-4fbc-c57d-8ee5eb1c3eb9"
      },
      "execution_count": 79,
      "outputs": [
        {
          "output_type": "execute_result",
          "data": {
            "text/plain": [
              "0.754"
            ]
          },
          "metadata": {},
          "execution_count": 79
        }
      ]
    },
    {
      "cell_type": "code",
      "source": [
        "países.iloc[0][\"IDH\"]"
      ],
      "metadata": {
        "colab": {
          "base_uri": "https://localhost:8080/"
        },
        "id": "SSFiyEWM6L7E",
        "outputId": "cef04ef9-586f-4efc-8ca4-d77c8e518a28"
      },
      "execution_count": 80,
      "outputs": [
        {
          "output_type": "execute_result",
          "data": {
            "text/plain": [
              "0.754"
            ]
          },
          "metadata": {},
          "execution_count": 80
        }
      ]
    },
    {
      "cell_type": "code",
      "source": [
        "países.loc[\"Brasil\"][\"Habitantes\"]"
      ],
      "metadata": {
        "colab": {
          "base_uri": "https://localhost:8080/"
        },
        "id": "FRBNcyox6L_U",
        "outputId": "08faac48-11bf-4221-aa01-0b574cb07271"
      },
      "execution_count": 82,
      "outputs": [
        {
          "output_type": "execute_result",
          "data": {
            "text/plain": [
              "214.0"
            ]
          },
          "metadata": {},
          "execution_count": 82
        }
      ]
    },
    {
      "cell_type": "code",
      "source": [
        "países.at[\"Brasil\", \"Habitantes\"]"
      ],
      "metadata": {
        "colab": {
          "base_uri": "https://localhost:8080/"
        },
        "id": "BuQVclZJ6vbM",
        "outputId": "892b1526-3719-4dc2-99f7-7aeeedef9450"
      },
      "execution_count": 83,
      "outputs": [
        {
          "output_type": "execute_result",
          "data": {
            "text/plain": [
              "214.0"
            ]
          },
          "metadata": {},
          "execution_count": 83
        }
      ]
    },
    {
      "cell_type": "code",
      "source": [
        "países[\"Habitantes\"]"
      ],
      "metadata": {
        "colab": {
          "base_uri": "https://localhost:8080/"
        },
        "id": "B8IXn3Qp63GS",
        "outputId": "c3dd7eb7-ad83-4695-b25e-6589637904cc"
      },
      "execution_count": 86,
      "outputs": [
        {
          "output_type": "execute_result",
          "data": {
            "text/plain": [
              "Brasil       214.00\n",
              "Argentina     45.81\n",
              "Portugal      10.30\n",
              "Angola        33.93\n",
              "Name: Habitantes, dtype: float64"
            ]
          },
          "metadata": {},
          "execution_count": 86
        }
      ]
    },
    {
      "cell_type": "code",
      "source": [],
      "metadata": {
        "id": "TYhlVCl47OcQ"
      },
      "execution_count": null,
      "outputs": []
    },
    {
      "cell_type": "markdown",
      "source": [
        "## Gráficos"
      ],
      "metadata": {
        "id": "zX8hkoo31Kzd"
      }
    },
    {
      "cell_type": "code",
      "source": [
        "barras= países.plot(kind=\"bar\", legend=True, color= [\"red\"])\n",
        "barras"
      ],
      "metadata": {
        "colab": {
          "base_uri": "https://localhost:8080/",
          "height": 321
        },
        "id": "jiLM-DsRx9uy",
        "outputId": "29d8ce26-0fea-440e-b15e-8899fced13df"
      },
      "execution_count": 53,
      "outputs": [
        {
          "output_type": "execute_result",
          "data": {
            "text/plain": [
              "<matplotlib.axes._subplots.AxesSubplot at 0x7fe337256a90>"
            ]
          },
          "metadata": {},
          "execution_count": 53
        },
        {
          "output_type": "display_data",
          "data": {
            "text/plain": [
              "<Figure size 432x288 with 1 Axes>"
            ],
            "image/png": "[encoded data removed]"
          },
          "metadata": {
            "needs_background": "light"
          }
        }
      ]
    },
    {
      "cell_type": "markdown",
      "source": [
        "# Trabalhando com arquivos"
      ],
      "metadata": {
        "id": "tXuaynl_vcaT"
      }
    },
    {
      "cell_type": "code",
      "source": [
        "csv= \"contexto_inter.csv\"\n",
        "contexto=pd.read_csv(csv)\n",
        "contexto\n"
      ],
      "metadata": {
        "colab": {
          "base_uri": "https://localhost:8080/",
          "height": 1000
        },
        "id": "HBPz3ZNbu9_S",
        "outputId": "faa8200a-aa28-4819-d6ab-2e342a6531f7"
      },
      "execution_count": 94,
      "outputs": [
        {
          "output_type": "execute_result",
          "data": {
            "text/plain": [
              "                                                    AU  \\\n",
              "0                                Eugênio Vargas Garcia   \n",
              "1                               Juan Gabriel Tokatlian   \n",
              "2                       Maria Guadalupe Moog Rodrigues   \n",
              "3                                      Mark Everingham   \n",
              "4                                          Mônica Herz   \n",
              "..                                                 ...   \n",
              "419  Leandro Wolpert dos Santos;André Pimentel Ferr...   \n",
              "420                     Cairo Gabriel Borges Junqueira   \n",
              "421         Virginia Soledad Busilli;María Belén Jaime   \n",
              "422             Bruno Hendler;André Luiz Cançado Motta   \n",
              "423                              João Fernando Finazzi   \n",
              "\n",
              "                                                    OG  \\\n",
              "0                                                  NaN   \n",
              "1                                                  NaN   \n",
              "2                                                  NaN   \n",
              "3                                                  NaN   \n",
              "4                                                  NaN   \n",
              "..                                                 ...   \n",
              "419  Institute of Social and Political Studies of t...   \n",
              "420                Federal University of Sergipe (UFS)   \n",
              "421  Scientific and Technological Center of the Nat...   \n",
              "422  Federal University of Santa Maria (UFSM);Feder...   \n",
              "423  San Tiago Dantas Interinstitutional Graduate P...   \n",
              "\n",
              "                                                    TI  \\\n",
              "0    Estados Unidos e Grã-Bretanha no Brasil: trans...   \n",
              "1    Colômbia: mais insegurança humana, menos segur...   \n",
              "2    Redes transnacionais de advocacia pública: est...   \n",
              "3    Direitos de propriedade e cidadania em socieda...   \n",
              "4    O Crescimento da área de relações internaciona...   \n",
              "..                                                 ...   \n",
              "419  Explaining the Changes in Brazilian Foreign Po...   \n",
              "420  From Municipalist Activism to Institutional Ch...   \n",
              "421  Chinese Investments in Brazil: Economic Diplom...   \n",
              "422  Military Build-up in Southeast Asia and the So...   \n",
              "423  Badges Without Borders: How Global Counterinsu...   \n",
              "\n",
              "                                                    AB  \\\n",
              "0    Com enfoque sobretudo na década de 20, este ar...   \n",
              "1    No contexto da grave crise que atravessa a reg...   \n",
              "2    O projeto Planafloro, financiado pelo Banco Mu...   \n",
              "3    Este estudo mostra como as disputas de terra d...   \n",
              "4    O artigo analisa a produção acadêmica brasilei...   \n",
              "..                                                 ...   \n",
              "419  AbstractThe administration of President Michel...   \n",
              "420  AbstractMercosur has gone through distinct pha...   \n",
              "421  AbstractThe People’s Republic of China has con...   \n",
              "422  AbstractAbstract: The South China Sea (SCS) is...   \n",
              "423                                                NaN   \n",
              "\n",
              "                                                    DE  \\\n",
              "0    Brazil-United States; Brazil-Britain; Transiti...   \n",
              "1    Andes Region; Human Insecurity; US Interventio...   \n",
              "2    Inspection Panel; World Bank; Transnational Ne...   \n",
              "3    Property Rights; Conflict Resolution; Citizens...   \n",
              "4    International Relations Theory; International ...   \n",
              "..                                                 ...   \n",
              "419  foreign policy change; Brazilian foreign polic...   \n",
              "420  Mercosur; Mercocities; FCCR; subnational gover...   \n",
              "421  Latin America, China, economic diplomacy, FDI,...   \n",
              "422  South China Sea; Southeast Asia; China; milita...   \n",
              "423                                                NaN   \n",
              "\n",
              "                                                    CR    BP_EP      PY  \\\n",
              "0    ABREU, Marcelo de Paiva. (1973), \"The Niemeyer...      NaN  2002.0   \n",
              "1    DORF, Robert H. (1996), \"Democratization and F...  129-166  2002.0   \n",
              "2    BROWDER, John. (1998), Report - World Bank Mid...      NaN  2002.0   \n",
              "3    ADAMS, Martin, SIBANDA, Sipho e THOMAS, Glen. ...      NaN  2002.0   \n",
              "4    ABREU, Marcelo de Paiva. (1984), \"O Brasil e a...      NaN  2002.0   \n",
              "..                                                 ...      ...     ...   \n",
              "419  Almeida, P R de. 2003. ‘A Política Internacion...  489-513  2021.0   \n",
              "420  Aalberts, T. 2005. ‘Sovereignty Reloaded? A Co...  515-540  2021.0   \n",
              "421  Abeliansky, A. L and I Martínez-Zarzoso. 2019....  541-564  2021.0   \n",
              "422  Astro Awani [online]. 2013. ‘PM Announces Sett...  565-591  2021.0   \n",
              "423  Latham, M. 2011. The Right Kind of Revolution:...  593-596  2021.0   \n",
              "\n",
              "                    IS  LA                                DI  \\\n",
              "0    v. 24 n. 1 (2002)  pt   10.1590/S0102-85292002000100001   \n",
              "1    v. 24 n. 1 (2002)  pt   10.1590/S0102-85292002000100002   \n",
              "2    v. 24 n. 1 (2002)  pt   10.1590/S0102-85292002000100003   \n",
              "3    v. 24 n. 1 (2002)  pt   10.1590/S0102-85292002000100004   \n",
              "4    v. 24 n. 1 (2002)  pt   10.1590/S0102-85292002000100005   \n",
              "..                 ...  ..                               ...   \n",
              "419  v. 43 n. 3 (2021)  en  10.1590/S0102-8529.2019430300003   \n",
              "420  v. 43 n. 3 (2021)  en  10.1590/S0102-8529.2019430300004   \n",
              "421  v. 43 n. 3 (2021)  en  10.1590/S0102-8529.2019430300005   \n",
              "422  v. 43 n. 3 (2021)  en  10.1590/S0102-8529.2019430300006   \n",
              "423  v. 43 n. 3 (2021)  en  10.1590/S0102-8529.2019430300007   \n",
              "\n",
              "                         SO         SN  \\\n",
              "0    Contexto Internacional  1982-0240   \n",
              "1    Contexto Internacional  1982-0240   \n",
              "2    Contexto Internacional  1982-0240   \n",
              "3    Contexto Internacional  1982-0240   \n",
              "4    Contexto Internacional  1982-0240   \n",
              "..                      ...        ...   \n",
              "419  Contexto Internacional  1982-0240   \n",
              "420  Contexto Internacional  1982-0240   \n",
              "421  Contexto Internacional  1982-0240   \n",
              "422  Contexto Internacional  1982-0240   \n",
              "423  Contexto Internacional  1982-0240   \n",
              "\n",
              "                                                   URL  \\\n",
              "0    http://www.scielo.br/j/cint/a/cMTYLM3xwfzKNT4q...   \n",
              "1    http://www.scielo.br/j/cint/a/z8kxTngCqVMZD65G...   \n",
              "2    http://www.scielo.br/j/cint/a/46s45RBfLWLqwZx9...   \n",
              "3    http://www.scielo.br/j/cint/a/7pRZMvTywYzZXDfJ...   \n",
              "4    http://www.scielo.br/j/cint/a/dTq3jbQQtT7DgRDj...   \n",
              "..                                                 ...   \n",
              "419  http://www.scielo.br/j/cint/a/7gnzcsdC6C3mcsm3...   \n",
              "420  http://www.scielo.br/j/cint/a/vqh4SkKwm4DknmfQ...   \n",
              "421  http://www.scielo.br/j/cint/a/czWnkqcLF8RfYDjR...   \n",
              "422  http://www.scielo.br/j/cint/a/jp66xVMw6bFGVJQH...   \n",
              "423  http://www.scielo.br/j/cint/a/zJtYy5mtQsMwTNpQ...   \n",
              "\n",
              "                                                PDFURL  \\\n",
              "0    https://www.scielo.br/j/cint/a/cMTYLM3xwfzKNT4...   \n",
              "1    https://www.scielo.br/j/cint/a/z8kxTngCqVMZD65...   \n",
              "2    https://www.scielo.br/j/cint/a/46s45RBfLWLqwZx...   \n",
              "3    https://www.scielo.br/j/cint/a/7pRZMvTywYzZXDf...   \n",
              "4    https://www.scielo.br/j/cint/a/dTq3jbQQtT7DgRD...   \n",
              "..                                                 ...   \n",
              "419  https://www.scielo.br/j/cint/a/7gnzcsdC6C3mcsm...   \n",
              "420  https://www.scielo.br/j/cint/a/vqh4SkKwm4Dknmf...   \n",
              "421  https://www.scielo.br/j/cint/a/czWnkqcLF8RfYDj...   \n",
              "422  https://www.scielo.br/j/cint/a/jp66xVMw6bFGVJQ...   \n",
              "423  https://www.scielo.br/j/cint/a/zJtYy5mtQsMwTNp...   \n",
              "\n",
              "                                           loc_arquivo     size  \n",
              "0    /media/hdvm09/bd/007/002/002/003/contexto_inte...   139729  \n",
              "1    /media/hdvm09/bd/007/002/002/003/contexto_inte...   154457  \n",
              "2    /media/hdvm09/bd/007/002/002/003/contexto_inte...   206246  \n",
              "3    /media/hdvm09/bd/007/002/002/003/contexto_inte...   147182  \n",
              "4    /media/hdvm09/bd/007/002/002/003/contexto_inte...   157795  \n",
              "..                                                 ...      ...  \n",
              "419  /media/hdvm09/bd/007/002/002/003/contexto_inte...  1702907  \n",
              "420  /media/hdvm09/bd/007/002/002/003/contexto_inte...  2147350  \n",
              "421  /media/hdvm09/bd/007/002/002/003/contexto_inte...  1823392  \n",
              "422  /media/hdvm09/bd/007/002/002/003/contexto_inte...  2166459  \n",
              "423  /media/hdvm09/bd/007/002/002/003/contexto_inte...   733593  \n",
              "\n",
              "[424 rows x 17 columns]"
            ],
            "text/html": [
              "\n",
              "  <div id=\"df-daf64728-40a9-49ba-b689-5230d3a149f5\">\n",
              "    <div class=\"colab-df-container\">\n",
              "      <div>\n",
              "<style scoped>\n",
              "    .dataframe tbody tr th:only-of-type {\n",
              "        vertical-align: middle;\n",
              "    }\n",
              "\n",
              "    .dataframe tbody tr th {\n",
              "        vertical-align: top;\n",
              "    }\n",
              "\n",
              "    .dataframe thead th {\n",
              "        text-align: right;\n",
              "    }\n",
              "</style>\n",
              "<table border=\"1\" class=\"dataframe\">\n",
              "  <thead>\n",
              "    <tr style=\"text-align: right;\">\n",
              "      <th></th>\n",
              "      <th>AU</th>\n",
              "      <th>OG</th>\n",
              "      <th>TI</th>\n",
              "      <th>AB</th>\n",
              "      <th>DE</th>\n",
              "      <th>CR</th>\n",
              "      <th>BP_EP</th>\n",
              "      <th>PY</th>\n",
              "      <th>IS</th>\n",
              "      <th>LA</th>\n",
              "      <th>DI</th>\n",
              "      <th>SO</th>\n",
              "      <th>SN</th>\n",
              "      <th>URL</th>\n",
              "      <th>PDFURL</th>\n",
              "      <th>loc_arquivo</th>\n",
              "      <th>size</th>\n",
              "    </tr>\n",
              "  </thead>\n",
              "  <tbody>\n",
              "    <tr>\n",
              "      <th>0</th>\n",
              "      <td>Eugênio Vargas Garcia</td>\n",
              "      <td>NaN</td>\n",
              "      <td>Estados Unidos e Grã-Bretanha no Brasil: trans...</td>\n",
              "      <td>Com enfoque sobretudo na década de 20, este ar...</td>\n",
              "      <td>Brazil-United States; Brazil-Britain; Transiti...</td>\n",
              "      <td>ABREU, Marcelo de Paiva. (1973), \"The Niemeyer...</td>\n",
              "      <td>NaN</td>\n",
              "      <td>2002.0</td>\n",
              "      <td>v. 24 n. 1 (2002)</td>\n",
              "      <td>pt</td>\n",
              "      <td>10.1590/S0102-85292002000100001</td>\n",
              "      <td>Contexto Internacional</td>\n",
              "      <td>1982-0240</td>\n",
              "      <td>http://www.scielo.br/j/cint/a/cMTYLM3xwfzKNT4q...</td>\n",
              "      <td>https://www.scielo.br/j/cint/a/cMTYLM3xwfzKNT4...</td>\n",
              "      <td>/media/hdvm09/bd/007/002/002/003/contexto_inte...</td>\n",
              "      <td>139729</td>\n",
              "    </tr>\n",
              "    <tr>\n",
              "      <th>1</th>\n",
              "      <td>Juan Gabriel Tokatlian</td>\n",
              "      <td>NaN</td>\n",
              "      <td>Colômbia: mais insegurança humana, menos segur...</td>\n",
              "      <td>No contexto da grave crise que atravessa a reg...</td>\n",
              "      <td>Andes Region; Human Insecurity; US Interventio...</td>\n",
              "      <td>DORF, Robert H. (1996), \"Democratization and F...</td>\n",
              "      <td>129-166</td>\n",
              "      <td>2002.0</td>\n",
              "      <td>v. 24 n. 1 (2002)</td>\n",
              "      <td>pt</td>\n",
              "      <td>10.1590/S0102-85292002000100002</td>\n",
              "      <td>Contexto Internacional</td>\n",
              "      <td>1982-0240</td>\n",
              "      <td>http://www.scielo.br/j/cint/a/z8kxTngCqVMZD65G...</td>\n",
              "      <td>https://www.scielo.br/j/cint/a/z8kxTngCqVMZD65...</td>\n",
              "      <td>/media/hdvm09/bd/007/002/002/003/contexto_inte...</td>\n",
              "      <td>154457</td>\n",
              "    </tr>\n",
              "    <tr>\n",
              "      <th>2</th>\n",
              "      <td>Maria Guadalupe Moog Rodrigues</td>\n",
              "      <td>NaN</td>\n",
              "      <td>Redes transnacionais de advocacia pública: est...</td>\n",
              "      <td>O projeto Planafloro, financiado pelo Banco Mu...</td>\n",
              "      <td>Inspection Panel; World Bank; Transnational Ne...</td>\n",
              "      <td>BROWDER, John. (1998), Report - World Bank Mid...</td>\n",
              "      <td>NaN</td>\n",
              "      <td>2002.0</td>\n",
              "      <td>v. 24 n. 1 (2002)</td>\n",
              "      <td>pt</td>\n",
              "      <td>10.1590/S0102-85292002000100003</td>\n",
              "      <td>Contexto Internacional</td>\n",
              "      <td>1982-0240</td>\n",
              "      <td>http://www.scielo.br/j/cint/a/46s45RBfLWLqwZx9...</td>\n",
              "      <td>https://www.scielo.br/j/cint/a/46s45RBfLWLqwZx...</td>\n",
              "      <td>/media/hdvm09/bd/007/002/002/003/contexto_inte...</td>\n",
              "      <td>206246</td>\n",
              "    </tr>\n",
              "    <tr>\n",
              "      <th>3</th>\n",
              "      <td>Mark Everingham</td>\n",
              "      <td>NaN</td>\n",
              "      <td>Direitos de propriedade e cidadania em socieda...</td>\n",
              "      <td>Este estudo mostra como as disputas de terra d...</td>\n",
              "      <td>Property Rights; Conflict Resolution; Citizens...</td>\n",
              "      <td>ADAMS, Martin, SIBANDA, Sipho e THOMAS, Glen. ...</td>\n",
              "      <td>NaN</td>\n",
              "      <td>2002.0</td>\n",
              "      <td>v. 24 n. 1 (2002)</td>\n",
              "      <td>pt</td>\n",
              "      <td>10.1590/S0102-85292002000100004</td>\n",
              "      <td>Contexto Internacional</td>\n",
              "      <td>1982-0240</td>\n",
              "      <td>http://www.scielo.br/j/cint/a/7pRZMvTywYzZXDfJ...</td>\n",
              "      <td>https://www.scielo.br/j/cint/a/7pRZMvTywYzZXDf...</td>\n",
              "      <td>/media/hdvm09/bd/007/002/002/003/contexto_inte...</td>\n",
              "      <td>147182</td>\n",
              "    </tr>\n",
              "    <tr>\n",
              "      <th>4</th>\n",
              "      <td>Mônica Herz</td>\n",
              "      <td>NaN</td>\n",
              "      <td>O Crescimento da área de relações internaciona...</td>\n",
              "      <td>O artigo analisa a produção acadêmica brasilei...</td>\n",
              "      <td>International Relations Theory; International ...</td>\n",
              "      <td>ABREU, Marcelo de Paiva. (1984), \"O Brasil e a...</td>\n",
              "      <td>NaN</td>\n",
              "      <td>2002.0</td>\n",
              "      <td>v. 24 n. 1 (2002)</td>\n",
              "      <td>pt</td>\n",
              "      <td>10.1590/S0102-85292002000100005</td>\n",
              "      <td>Contexto Internacional</td>\n",
              "      <td>1982-0240</td>\n",
              "      <td>http://www.scielo.br/j/cint/a/dTq3jbQQtT7DgRDj...</td>\n",
              "      <td>https://www.scielo.br/j/cint/a/dTq3jbQQtT7DgRD...</td>\n",
              "      <td>/media/hdvm09/bd/007/002/002/003/contexto_inte...</td>\n",
              "      <td>157795</td>\n",
              "    </tr>\n",
              "    <tr>\n",
              "      <th>...</th>\n",
              "      <td>...</td>\n",
              "      <td>...</td>\n",
              "      <td>...</td>\n",
              "      <td>...</td>\n",
              "      <td>...</td>\n",
              "      <td>...</td>\n",
              "      <td>...</td>\n",
              "      <td>...</td>\n",
              "      <td>...</td>\n",
              "      <td>...</td>\n",
              "      <td>...</td>\n",
              "      <td>...</td>\n",
              "      <td>...</td>\n",
              "      <td>...</td>\n",
              "      <td>...</td>\n",
              "      <td>...</td>\n",
              "      <td>...</td>\n",
              "    </tr>\n",
              "    <tr>\n",
              "      <th>419</th>\n",
              "      <td>Leandro Wolpert dos Santos;André Pimentel Ferr...</td>\n",
              "      <td>Institute of Social and Political Studies of t...</td>\n",
              "      <td>Explaining the Changes in Brazilian Foreign Po...</td>\n",
              "      <td>AbstractThe administration of President Michel...</td>\n",
              "      <td>foreign policy change; Brazilian foreign polic...</td>\n",
              "      <td>Almeida, P R de. 2003. ‘A Política Internacion...</td>\n",
              "      <td>489-513</td>\n",
              "      <td>2021.0</td>\n",
              "      <td>v. 43 n. 3 (2021)</td>\n",
              "      <td>en</td>\n",
              "      <td>10.1590/S0102-8529.2019430300003</td>\n",
              "      <td>Contexto Internacional</td>\n",
              "      <td>1982-0240</td>\n",
              "      <td>http://www.scielo.br/j/cint/a/7gnzcsdC6C3mcsm3...</td>\n",
              "      <td>https://www.scielo.br/j/cint/a/7gnzcsdC6C3mcsm...</td>\n",
              "      <td>/media/hdvm09/bd/007/002/002/003/contexto_inte...</td>\n",
              "      <td>1702907</td>\n",
              "    </tr>\n",
              "    <tr>\n",
              "      <th>420</th>\n",
              "      <td>Cairo Gabriel Borges Junqueira</td>\n",
              "      <td>Federal University of Sergipe (UFS)</td>\n",
              "      <td>From Municipalist Activism to Institutional Ch...</td>\n",
              "      <td>AbstractMercosur has gone through distinct pha...</td>\n",
              "      <td>Mercosur; Mercocities; FCCR; subnational gover...</td>\n",
              "      <td>Aalberts, T. 2005. ‘Sovereignty Reloaded? A Co...</td>\n",
              "      <td>515-540</td>\n",
              "      <td>2021.0</td>\n",
              "      <td>v. 43 n. 3 (2021)</td>\n",
              "      <td>en</td>\n",
              "      <td>10.1590/S0102-8529.2019430300004</td>\n",
              "      <td>Contexto Internacional</td>\n",
              "      <td>1982-0240</td>\n",
              "      <td>http://www.scielo.br/j/cint/a/vqh4SkKwm4DknmfQ...</td>\n",
              "      <td>https://www.scielo.br/j/cint/a/vqh4SkKwm4Dknmf...</td>\n",
              "      <td>/media/hdvm09/bd/007/002/002/003/contexto_inte...</td>\n",
              "      <td>2147350</td>\n",
              "    </tr>\n",
              "    <tr>\n",
              "      <th>421</th>\n",
              "      <td>Virginia Soledad Busilli;María Belén Jaime</td>\n",
              "      <td>Scientific and Technological Center of the Nat...</td>\n",
              "      <td>Chinese Investments in Brazil: Economic Diplom...</td>\n",
              "      <td>AbstractThe People’s Republic of China has con...</td>\n",
              "      <td>Latin America, China, economic diplomacy, FDI,...</td>\n",
              "      <td>Abeliansky, A. L and I Martínez-Zarzoso. 2019....</td>\n",
              "      <td>541-564</td>\n",
              "      <td>2021.0</td>\n",
              "      <td>v. 43 n. 3 (2021)</td>\n",
              "      <td>en</td>\n",
              "      <td>10.1590/S0102-8529.2019430300005</td>\n",
              "      <td>Contexto Internacional</td>\n",
              "      <td>1982-0240</td>\n",
              "      <td>http://www.scielo.br/j/cint/a/czWnkqcLF8RfYDjR...</td>\n",
              "      <td>https://www.scielo.br/j/cint/a/czWnkqcLF8RfYDj...</td>\n",
              "      <td>/media/hdvm09/bd/007/002/002/003/contexto_inte...</td>\n",
              "      <td>1823392</td>\n",
              "    </tr>\n",
              "    <tr>\n",
              "      <th>422</th>\n",
              "      <td>Bruno Hendler;André Luiz Cançado Motta</td>\n",
              "      <td>Federal University of Santa Maria (UFSM);Feder...</td>\n",
              "      <td>Military Build-up in Southeast Asia and the So...</td>\n",
              "      <td>AbstractAbstract: The South China Sea (SCS) is...</td>\n",
              "      <td>South China Sea; Southeast Asia; China; milita...</td>\n",
              "      <td>Astro Awani [online]. 2013. ‘PM Announces Sett...</td>\n",
              "      <td>565-591</td>\n",
              "      <td>2021.0</td>\n",
              "      <td>v. 43 n. 3 (2021)</td>\n",
              "      <td>en</td>\n",
              "      <td>10.1590/S0102-8529.2019430300006</td>\n",
              "      <td>Contexto Internacional</td>\n",
              "      <td>1982-0240</td>\n",
              "      <td>http://www.scielo.br/j/cint/a/jp66xVMw6bFGVJQH...</td>\n",
              "      <td>https://www.scielo.br/j/cint/a/jp66xVMw6bFGVJQ...</td>\n",
              "      <td>/media/hdvm09/bd/007/002/002/003/contexto_inte...</td>\n",
              "      <td>2166459</td>\n",
              "    </tr>\n",
              "    <tr>\n",
              "      <th>423</th>\n",
              "      <td>João Fernando Finazzi</td>\n",
              "      <td>San Tiago Dantas Interinstitutional Graduate P...</td>\n",
              "      <td>Badges Without Borders: How Global Counterinsu...</td>\n",
              "      <td>NaN</td>\n",
              "      <td>NaN</td>\n",
              "      <td>Latham, M. 2011. The Right Kind of Revolution:...</td>\n",
              "      <td>593-596</td>\n",
              "      <td>2021.0</td>\n",
              "      <td>v. 43 n. 3 (2021)</td>\n",
              "      <td>en</td>\n",
              "      <td>10.1590/S0102-8529.2019430300007</td>\n",
              "      <td>Contexto Internacional</td>\n",
              "      <td>1982-0240</td>\n",
              "      <td>http://www.scielo.br/j/cint/a/zJtYy5mtQsMwTNpQ...</td>\n",
              "      <td>https://www.scielo.br/j/cint/a/zJtYy5mtQsMwTNp...</td>\n",
              "      <td>/media/hdvm09/bd/007/002/002/003/contexto_inte...</td>\n",
              "      <td>733593</td>\n",
              "    </tr>\n",
              "  </tbody>\n",
              "</table>\n",
              "<p>424 rows × 17 columns</p>\n",
              "</div>\n",
              "      <button class=\"colab-df-convert\" onclick=\"convertToInteractive('df-daf64728-40a9-49ba-b689-5230d3a149f5')\"\n",
              "              title=\"Convert this dataframe to an interactive table.\"\n",
              "              style=\"display:none;\">\n",
              "        \n",
              "  <svg xmlns=\"http://www.w3.org/2000/svg\" height=\"24px\"viewBox=\"0 0 24 24\"\n",
              "       width=\"24px\">\n",
              "    <path d=\"M0 0h24v24H0V0z\" fill=\"none\"/>\n",
              "    <path d=\"M18.56 5.44l.94 2.06.94-2.06 2.06-.94-2.06-.94-.94-2.06-.94 2.06-2.06.94zm-11 1L8.5 8.5l.94-2.06 2.06-.94-2.06-.94L8.5 2.5l-.94 2.06-2.06.94zm10 10l.94 2.06.94-2.06 2.06-.94-2.06-.94-.94-2.06-.94 2.06-2.06.94z\"/><path d=\"M17.41 7.96l-1.37-1.37c-.4-.4-.92-.59-1.43-.59-.52 0-1.04.2-1.43.59L10.3 9.45l-7.72 7.72c-.78.78-.78 2.05 0 2.83L4 21.41c.39.39.9.59 1.41.59.51 0 1.02-.2 1.41-.59l7.78-7.78 2.81-2.81c.8-.78.8-2.07 0-2.86zM5.41 20L4 18.59l7.72-7.72 1.47 1.35L5.41 20z\"/>\n",
              "  </svg>\n",
              "      </button>\n",
              "      \n",
              "  <style>\n",
              "    .colab-df-container {\n",
              "      display:flex;\n",
              "      flex-wrap:wrap;\n",
              "      gap: 12px;\n",
              "    }\n",
              "\n",
              "    .colab-df-convert {\n",
              "      background-color: #E8F0FE;\n",
              "      border: none;\n",
              "      border-radius: 50%;\n",
              "      cursor: pointer;\n",
              "      display: none;\n",
              "      fill: #1967D2;\n",
              "      height: 32px;\n",
              "      padding: 0 0 0 0;\n",
              "      width: 32px;\n",
              "    }\n",
              "\n",
              "    .colab-df-convert:hover {\n",
              "      background-color: #E2EBFA;\n",
              "      box-shadow: 0px 1px 2px rgba(60, 64, 67, 0.3), 0px 1px 3px 1px rgba(60, 64, 67, 0.15);\n",
              "      fill: #174EA6;\n",
              "    }\n",
              "\n",
              "    [theme=dark] .colab-df-convert {\n",
              "      background-color: #3B4455;\n",
              "      fill: #D2E3FC;\n",
              "    }\n",
              "\n",
              "    [theme=dark] .colab-df-convert:hover {\n",
              "      background-color: #434B5C;\n",
              "      box-shadow: 0px 1px 3px 1px rgba(0, 0, 0, 0.15);\n",
              "      filter: drop-shadow(0px 1px 2px rgba(0, 0, 0, 0.3));\n",
              "      fill: #FFFFFF;\n",
              "    }\n",
              "  </style>\n",
              "\n",
              "      <script>\n",
              "        const buttonEl =\n",
              "          document.querySelector('#df-daf64728-40a9-49ba-b689-5230d3a149f5 button.colab-df-convert');\n",
              "        buttonEl.style.display =\n",
              "          google.colab.kernel.accessAllowed ? 'block' : 'none';\n",
              "\n",
              "        async function convertToInteractive(key) {\n",
              "          const element = document.querySelector('#df-daf64728-40a9-49ba-b689-5230d3a149f5');\n",
              "          const dataTable =\n",
              "            await google.colab.kernel.invokeFunction('convertToInteractive',\n",
              "                                                     [key], {});\n",
              "          if (!dataTable) return;\n",
              "\n",
              "          const docLinkHtml = 'Like what you see? Visit the ' +\n",
              "            '<a target=\"_blank\" href=https://colab.research.google.com/notebooks/data_table.ipynb>data table notebook</a>'\n",
              "            + ' to learn more about interactive tables.';\n",
              "          element.innerHTML = '';\n",
              "          dataTable['output_type'] = 'display_data';\n",
              "          await google.colab.output.renderOutput(dataTable, element);\n",
              "          const docLink = document.createElement('div');\n",
              "          docLink.innerHTML = docLinkHtml;\n",
              "          element.appendChild(docLink);\n",
              "        }\n",
              "      </script>\n",
              "    </div>\n",
              "  </div>\n",
              "  "
            ]
          },
          "metadata": {},
          "execution_count": 94
        }
      ]
    }
  ]
}